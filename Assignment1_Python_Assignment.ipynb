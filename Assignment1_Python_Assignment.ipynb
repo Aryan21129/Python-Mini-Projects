{
  "nbformat": 4,
  "nbformat_minor": 0,
  "metadata": {
    "colab": {
      "provenance": [],
      "authorship_tag": "ABX9TyODbanTTogHFiqlpbhJvxwO",
      "include_colab_link": true
    },
    "kernelspec": {
      "name": "python3",
      "display_name": "Python 3"
    },
    "language_info": {
      "name": "python"
    }
  },
  "cells": [
    {
      "cell_type": "markdown",
      "metadata": {
        "id": "view-in-github",
        "colab_type": "text"
      },
      "source": [
        "<a href=\"https://colab.research.google.com/github/Aryan21129/Python-Mini-Projects/blob/main/Assignment1_Python_Assignment.ipynb\" target=\"_parent\"><img src=\"https://colab.research.google.com/assets/colab-badge.svg\" alt=\"Open In Colab\"/></a>"
      ]
    },
    {
      "cell_type": "markdown",
      "source": [
        "## Python Assignment"
      ],
      "metadata": {
        "id": "mfcs8UmnZ39f"
      }
    },
    {
      "cell_type": "markdown",
      "source": [
        "#Q1 L is a list defined as L=[11,12,13,14]"
      ],
      "metadata": {
        "id": "u1rb6TeqZkVg"
      }
    },
    {
      "cell_type": "code",
      "source": [
        "# Add 50 and 60 to L\n",
        "\n",
        "L=[11,12,13,14]\n",
        "L.append(50)\n",
        "L.append(60)\n",
        "print(L)\n"
      ],
      "metadata": {
        "colab": {
          "base_uri": "https://localhost:8080/"
        },
        "id": "VDTb8sfUZAgx",
        "outputId": "29fae055-5cf7-4d9b-8d51-5d79ded45a7a"
      },
      "execution_count": null,
      "outputs": [
        {
          "output_type": "stream",
          "name": "stdout",
          "text": [
            "[11, 12, 13, 14, 50, 60]\n"
          ]
        }
      ]
    },
    {
      "cell_type": "code",
      "source": [
        "# Remove 11 and 13 from L\n",
        "L.remove(11)\n",
        "L.remove(13)\n",
        "print(L)\n"
      ],
      "metadata": {
        "colab": {
          "base_uri": "https://localhost:8080/"
        },
        "id": "tIArv2tPb64M",
        "outputId": "8012245b-6f7a-42ed-d91c-c9bbcababdd1"
      },
      "execution_count": null,
      "outputs": [
        {
          "output_type": "stream",
          "name": "stdout",
          "text": [
            "[12, 14, 50, 60]\n"
          ]
        }
      ]
    },
    {
      "cell_type": "code",
      "source": [
        "# Sort L in ascending order\n",
        "\n",
        "L.sort\n",
        "print(L)"
      ],
      "metadata": {
        "colab": {
          "base_uri": "https://localhost:8080/"
        },
        "id": "GVD40jp1dAkU",
        "outputId": "6202ec32-32af-40fd-8b57-e1b7f9a95281"
      },
      "execution_count": null,
      "outputs": [
        {
          "output_type": "stream",
          "name": "stdout",
          "text": [
            "[12, 14, 50, 60]\n"
          ]
        }
      ]
    },
    {
      "cell_type": "code",
      "source": [
        "# Sort L in descending order\n",
        "L.sort(reverse=True)\n",
        "print(L)"
      ],
      "metadata": {
        "colab": {
          "base_uri": "https://localhost:8080/"
        },
        "id": "icP5FVkWdtVE",
        "outputId": "6131c80d-36d9-444d-e9f3-6f40ce63ab2a"
      },
      "execution_count": null,
      "outputs": [
        {
          "output_type": "stream",
          "name": "stdout",
          "text": [
            "[60, 50, 14, 12]\n"
          ]
        }
      ]
    },
    {
      "cell_type": "code",
      "source": [
        "# Search for 13 in L\n",
        "# L= [11, 12, 13, 14]\n",
        "if (13 in L) ==True:\n",
        "  print(\"Present\")\n",
        "\n",
        "else:\n",
        "  print(\"Absent\")\n",
        "\n",
        "  print(L)"
      ],
      "metadata": {
        "colab": {
          "base_uri": "https://localhost:8080/"
        },
        "id": "hAFn99Ihd7mF",
        "outputId": "2bee5fd6-bfa8-45a9-da99-c55920786572"
      },
      "execution_count": null,
      "outputs": [
        {
          "output_type": "stream",
          "name": "stdout",
          "text": [
            "Absent\n",
            "[60, 50, 14, 12]\n"
          ]
        }
      ]
    },
    {
      "cell_type": "code",
      "source": [
        "#  Count the number of elements present in L\n",
        "length = len(L)\n",
        "print(length)"
      ],
      "metadata": {
        "colab": {
          "base_uri": "https://localhost:8080/"
        },
        "id": "3G6HkG25gNXz",
        "outputId": "6801ae56-04fe-4099-d172-6e11f68fce23"
      },
      "execution_count": null,
      "outputs": [
        {
          "output_type": "stream",
          "name": "stdout",
          "text": [
            "4\n"
          ]
        }
      ]
    },
    {
      "cell_type": "code",
      "source": [
        "# Sum all the elements in L\n",
        "a = sum(L)\n",
        "print(a)"
      ],
      "metadata": {
        "colab": {
          "base_uri": "https://localhost:8080/"
        },
        "id": "PDRjFsc6iboq",
        "outputId": "6be083d2-a4ce-4c7c-b433-183c454ec439"
      },
      "execution_count": null,
      "outputs": [
        {
          "output_type": "stream",
          "name": "stdout",
          "text": [
            "136\n"
          ]
        }
      ]
    },
    {
      "cell_type": "code",
      "source": [
        "# Sum all ODD numbers in L\n",
        "L= [11, 12, 13, 14]\n",
        "for i in range(L):\n",
        "  print(L)"
      ],
      "metadata": {
        "id": "Abd4DN18jSJD"
      },
      "execution_count": null,
      "outputs": []
    },
    {
      "cell_type": "code",
      "source": [
        "#  to sum all EVEN numbers in L"
      ],
      "metadata": {
        "id": "PbpysUxIjQGp"
      },
      "execution_count": null,
      "outputs": []
    },
    {
      "cell_type": "code",
      "source": [
        "# to sum all PRIME numbers in L"
      ],
      "metadata": {
        "id": "YETyTsodjP7M"
      },
      "execution_count": null,
      "outputs": []
    },
    {
      "cell_type": "code",
      "source": [
        "# to clear all the elements in L"
      ],
      "metadata": {
        "id": "HHPD5zScjPvB"
      },
      "execution_count": null,
      "outputs": []
    },
    {
      "cell_type": "code",
      "source": [
        "#  to delete L"
      ],
      "metadata": {
        "id": "X8N1hR9hoYV4"
      },
      "execution_count": null,
      "outputs": []
    },
    {
      "cell_type": "markdown",
      "source": [
        "##Q2 D is a dictionary defined as \n",
        "##D= {1:5.6, 2:7.8, 3:6.6, 4:8.7, 5:7.7}"
      ],
      "metadata": {
        "id": "L3uGRunBXpjx"
      }
    },
    {
      "cell_type": "code",
      "source": [
        "# to add new entry in D; key=8 and value is 8.8\n",
        "D= {1:5.6, 2:7.8, 3:6.6, 4:8.7, 5:7.7}\n",
        "\n",
        "D[8]=8.8\n",
        "\n",
        "print(D)\n"
      ],
      "metadata": {
        "colab": {
          "base_uri": "https://localhost:8080/"
        },
        "id": "jry2xEGKX_Gg",
        "outputId": "2eab6ef1-7a06-4c27-d8ba-4aa85edd6d26"
      },
      "execution_count": null,
      "outputs": [
        {
          "output_type": "stream",
          "name": "stdout",
          "text": [
            "{1: 5.6, 2: 7.8, 3: 6.6, 4: 8.7, 5: 7.7, 8: 8.8}\n"
          ]
        }
      ]
    },
    {
      "cell_type": "code",
      "source": [
        "#  to remove key=2.\n",
        "D= {1: 5.6, 2: 7.8, 3: 6.6, 4: 8.7, 5: 7.7, 8: 8.8}\n",
        "del D[2]\n",
        "print(D)\n"
      ],
      "metadata": {
        "colab": {
          "base_uri": "https://localhost:8080/"
        },
        "id": "vujevViSZicC",
        "outputId": "12bc6be0-c865-480f-a8f9-4bf886894fae"
      },
      "execution_count": null,
      "outputs": [
        {
          "output_type": "stream",
          "name": "stdout",
          "text": [
            "{1: 5.6, 3: 6.6, 4: 8.7, 5: 7.7, 8: 8.8}\n"
          ]
        }
      ]
    },
    {
      "cell_type": "code",
      "source": [
        "# to check weather 6 key is present in D.\n",
        "D={1: 5.6, 3: 6.6, 4: 8.7, 5: 7.7, 8: 8.8}\n",
        "\n",
        "print(\"Is 1 is present -->\",1 in D)\n",
        "print(\"Is 6 is present --> \",6 in D)\n",
        "\n",
        "\n"
      ],
      "metadata": {
        "colab": {
          "base_uri": "https://localhost:8080/"
        },
        "id": "XGQztyA3aTNq",
        "outputId": "63a076d6-8af0-441b-f064-aeb7d3341110"
      },
      "execution_count": null,
      "outputs": [
        {
          "output_type": "stream",
          "name": "stdout",
          "text": [
            "Is 1 is present --> True\n",
            "Is 6 is present -->  False\n"
          ]
        }
      ]
    },
    {
      "cell_type": "code",
      "source": [
        "# to count the number of elements present in D\n",
        "D={1: 5.6, 3: 6.6, 4: 8.7, 5: 7.7, 8: 8.8}\n",
        "\n",
        "len(D)"
      ],
      "metadata": {
        "colab": {
          "base_uri": "https://localhost:8080/"
        },
        "id": "MRcWBwPgb5W7",
        "outputId": "2dea82fd-085e-4179-de0c-3fba55aab38b"
      },
      "execution_count": null,
      "outputs": [
        {
          "output_type": "execute_result",
          "data": {
            "text/plain": [
              "5"
            ]
          },
          "metadata": {},
          "execution_count": 8
        }
      ]
    },
    {
      "cell_type": "code",
      "source": [
        "# to add all the values present D\n",
        "D={1: 5.6, 3: 6.6, 4: 8.7, 5: 7.7, 8: 8.8}\n",
        "print(D.values()) \n",
        "print(sum(D.values()))"
      ],
      "metadata": {
        "colab": {
          "base_uri": "https://localhost:8080/"
        },
        "id": "g-vTyEb8c8Ti",
        "outputId": "9c436b8a-632e-4176-b44a-f83452d9807e"
      },
      "execution_count": null,
      "outputs": [
        {
          "output_type": "stream",
          "name": "stdout",
          "text": [
            "dict_values([5.6, 6.6, 8.7, 7.7, 8.8])\n",
            "37.4\n"
          ]
        }
      ]
    },
    {
      "cell_type": "code",
      "source": [
        "# to update the value of 3 to 7.1.\n",
        "D={1: 5.6, 3: 6.6, 4: 8.7, 5: 7.7, 8: 8.8}\n",
        "D[3]=7.1\n",
        "print(D)"
      ],
      "metadata": {
        "colab": {
          "base_uri": "https://localhost:8080/"
        },
        "id": "TlemmNswe2Gq",
        "outputId": "2a17e27a-ffae-48b9-bfb4-ea1bbf7d1327"
      },
      "execution_count": null,
      "outputs": [
        {
          "output_type": "stream",
          "name": "stdout",
          "text": [
            "{1: 5.6, 3: 7.1, 4: 8.7, 5: 7.7, 8: 8.8}\n"
          ]
        }
      ]
    },
    {
      "cell_type": "code",
      "source": [
        "# to clear the dictionary.\n",
        "D = {1: 5.6, 3: 7.1, 4: 8.7, 5: 7.7, 8: 8.8}\n",
        "D.clear()\n",
        "print(D)"
      ],
      "metadata": {
        "colab": {
          "base_uri": "https://localhost:8080/"
        },
        "id": "6rXtj9E_fgTc",
        "outputId": "715880a9-5c17-415c-9b8a-8e509967bf99"
      },
      "execution_count": null,
      "outputs": [
        {
          "output_type": "stream",
          "name": "stdout",
          "text": [
            "{}\n"
          ]
        }
      ]
    },
    {
      "cell_type": "markdown",
      "source": [
        "##Q3.S1 is a set defined as S1= [10, 20, 30, 40, 50, 60].\n",
        "## S2 is a set defined as S2= [40, 50, 60, 70, 80, 90]."
      ],
      "metadata": {
        "id": "izKRTGkRhAso"
      }
    },
    {
      "cell_type": "markdown",
      "source": [
        "## Q4. Write the following program."
      ],
      "metadata": {
        "id": "wfbDz80uhYHX"
      }
    },
    {
      "cell_type": "markdown",
      "source": [
        "## Q5. To create two lists of 10 random numbers between 10 and 30; Find\n"
      ],
      "metadata": {
        "id": "YW9cROPnhewz"
      }
    },
    {
      "cell_type": "markdown",
      "source": [
        "##Q6. WAP to create a list of 100 random numbers between 100 and 900. Count and print the: \n"
      ],
      "metadata": {
        "id": "gpjmZySGh-Rk"
      }
    },
    {
      "cell_type": "markdown",
      "source": [
        "##Q7. D is a dictionary defined as D={1:\"One\",2:\"Two\",3:\"Three\",4:\"Four\", 5:\"Five\"}.\n",
        " WAP to read all the keys and values from dictionary and write to the file in the given below format."
      ],
      "metadata": {
        "id": "2RsVlXzAhu3m"
      }
    },
    {
      "cell_type": "markdown",
      "source": [
        "##Q8. L is a list defined as L={\"One\",\"Two\",\"Three\",\"Four\",\"Five\"}.\n",
        " WAP to count the length of reach element from a list and write to the file in the given below format:"
      ],
      "metadata": {
        "id": "zDwvinxghxqw"
      }
    },
    {
      "cell_type": "markdown",
      "source": [
        "##Q9. Write to the file 100 random strings whose length between 10 and 15"
      ],
      "metadata": {
        "id": "kWCcUQo4hyVc"
      }
    },
    {
      "cell_type": "markdown",
      "source": [
        "##Q10. Write to the file all prime numbers between 600 and 800.\n"
      ],
      "metadata": {
        "id": "CPasSqWWh96o"
      }
    },
    {
      "cell_type": "markdown",
      "source": [
        "##Q11. WAP to calculate the time taken by a program.\n"
      ],
      "metadata": {
        "id": "vwf1Zlx4h9iF"
      }
    },
    {
      "cell_type": "markdown",
      "source": [
        "##Q12. WAP to sort following number of elements in a list, calculate time taken and plot the graph. \n"
      ],
      "metadata": {
        "id": "Bop6AMAdh9HI"
      }
    },
    {
      "cell_type": "markdown",
      "source": [
        "##Q13. WAP to create a dictionary of student marks in five subjects and you have to find the student\n",
        " ## having maximum and minimum average marks."
      ],
      "metadata": {
        "id": "4Pov7NFqh8om"
      }
    }
  ]
}