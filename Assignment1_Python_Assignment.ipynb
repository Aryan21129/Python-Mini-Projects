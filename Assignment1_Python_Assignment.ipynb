{
  "nbformat": 4,
  "nbformat_minor": 0,
  "metadata": {
    "colab": {
      "provenance": [],
      "authorship_tag": "ABX9TyOQ9qRoeD1VxiDIKTnA83jD",
      "include_colab_link": true
    },
    "kernelspec": {
      "name": "python3",
      "display_name": "Python 3"
    },
    "language_info": {
      "name": "python"
    }
  },
  "cells": [
    {
      "cell_type": "markdown",
      "metadata": {
        "id": "view-in-github",
        "colab_type": "text"
      },
      "source": [
        "<a href=\"https://colab.research.google.com/github/Aryan21129/Python-Mini-Projects/blob/main/Assignment1_Python_Assignment.ipynb\" target=\"_parent\"><img src=\"https://colab.research.google.com/assets/colab-badge.svg\" alt=\"Open In Colab\"/></a>"
      ]
    },
    {
      "cell_type": "markdown",
      "source": [
        "## Python Assignment"
      ],
      "metadata": {
        "id": "mfcs8UmnZ39f"
      }
    },
    {
      "cell_type": "markdown",
      "source": [
        "#Q1 L is a list defined as L=[11,12,13,14]"
      ],
      "metadata": {
        "id": "u1rb6TeqZkVg"
      }
    },
    {
      "cell_type": "code",
      "source": [
        "# Add 50 and 60 to L\n",
        "\n",
        "L=[11,12,13,14]\n",
        "L.append(50)\n",
        "L.append(60)\n",
        "print(L)\n"
      ],
      "metadata": {
        "colab": {
          "base_uri": "https://localhost:8080/"
        },
        "id": "VDTb8sfUZAgx",
        "outputId": "29fae055-5cf7-4d9b-8d51-5d79ded45a7a"
      },
      "execution_count": 16,
      "outputs": [
        {
          "output_type": "stream",
          "name": "stdout",
          "text": [
            "[11, 12, 13, 14, 50, 60]\n"
          ]
        }
      ]
    },
    {
      "cell_type": "code",
      "source": [
        "# Remove 11 and 13 from L\n",
        "L.remove(11)\n",
        "L.remove(13)\n",
        "print(L)\n"
      ],
      "metadata": {
        "colab": {
          "base_uri": "https://localhost:8080/"
        },
        "id": "tIArv2tPb64M",
        "outputId": "8012245b-6f7a-42ed-d91c-c9bbcababdd1"
      },
      "execution_count": 17,
      "outputs": [
        {
          "output_type": "stream",
          "name": "stdout",
          "text": [
            "[12, 14, 50, 60]\n"
          ]
        }
      ]
    },
    {
      "cell_type": "code",
      "source": [
        "# Sort L in ascending order\n",
        "\n",
        "L.sort\n",
        "print(L)"
      ],
      "metadata": {
        "colab": {
          "base_uri": "https://localhost:8080/"
        },
        "id": "GVD40jp1dAkU",
        "outputId": "6202ec32-32af-40fd-8b57-e1b7f9a95281"
      },
      "execution_count": 18,
      "outputs": [
        {
          "output_type": "stream",
          "name": "stdout",
          "text": [
            "[12, 14, 50, 60]\n"
          ]
        }
      ]
    },
    {
      "cell_type": "code",
      "source": [
        "# Sort L in descending order\n",
        "L.sort(reverse=True)\n",
        "print(L)"
      ],
      "metadata": {
        "colab": {
          "base_uri": "https://localhost:8080/"
        },
        "id": "icP5FVkWdtVE",
        "outputId": "6131c80d-36d9-444d-e9f3-6f40ce63ab2a"
      },
      "execution_count": 19,
      "outputs": [
        {
          "output_type": "stream",
          "name": "stdout",
          "text": [
            "[60, 50, 14, 12]\n"
          ]
        }
      ]
    },
    {
      "cell_type": "code",
      "source": [
        "# Search for 13 in L\n",
        "# L= [11, 12, 13, 14]\n",
        "if (13 in L) ==True:\n",
        "  print(\"Present\")\n",
        "\n",
        "else:\n",
        "  print(\"Absent\")\n",
        "\n",
        "  print(L)"
      ],
      "metadata": {
        "colab": {
          "base_uri": "https://localhost:8080/"
        },
        "id": "hAFn99Ihd7mF",
        "outputId": "2bee5fd6-bfa8-45a9-da99-c55920786572"
      },
      "execution_count": 20,
      "outputs": [
        {
          "output_type": "stream",
          "name": "stdout",
          "text": [
            "Absent\n",
            "[60, 50, 14, 12]\n"
          ]
        }
      ]
    },
    {
      "cell_type": "code",
      "source": [
        "#  Count the number of elements present in L"
      ],
      "metadata": {
        "id": "3G6HkG25gNXz"
      },
      "execution_count": null,
      "outputs": []
    }
  ]
}